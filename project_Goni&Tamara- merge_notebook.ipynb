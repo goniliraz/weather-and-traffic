{
 "cells": [
  {
   "cell_type": "code",
   "execution_count": 9,
   "id": "7f80c198",
   "metadata": {},
   "outputs": [
    {
     "name": "stdout",
     "output_type": "stream",
     "text": [
      "Requirement already satisfied: nbmerge in c:\\users\\gonip\\anaconda3\\lib\\site-packages (0.0.4)\n",
      "Note: you may need to restart the kernel to use updated packages.\n"
     ]
    }
   ],
   "source": [
    "pip install nbmerge"
   ]
  },
  {
   "cell_type": "code",
   "execution_count": 10,
   "id": "575b4c41",
   "metadata": {},
   "outputs": [],
   "source": [
    "!nbmerge project_Goni_Tamara_API_01.ipynb project_Goni_Tamara_crawling_02.ipynb project_Goni_Tamara_merge_03.ipynb project_Goni_Tamara_EDA_04.ipynb project_Goni_Tamara_Machine_Learning_05.ipynb -o project_Goni_Tamara_final_notebook.ipynb"
   ]
  },
  {
   "cell_type": "code",
   "execution_count": null,
   "id": "050fecd6",
   "metadata": {},
   "outputs": [],
   "source": []
  }
 ],
 "metadata": {
  "kernelspec": {
   "display_name": "Python 3 (ipykernel)",
   "language": "python",
   "name": "python3"
  },
  "language_info": {
   "codemirror_mode": {
    "name": "ipython",
    "version": 3
   },
   "file_extension": ".py",
   "mimetype": "text/x-python",
   "name": "python",
   "nbconvert_exporter": "python",
   "pygments_lexer": "ipython3",
   "version": "3.9.7"
  }
 },
 "nbformat": 4,
 "nbformat_minor": 5
}
